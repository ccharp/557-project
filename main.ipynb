{
 "cells": [
  {
   "cell_type": "markdown",
   "id": "b3860e63",
   "metadata": {},
   "source": [
    "Initialize"
   ]
  },
  {
   "cell_type": "code",
   "execution_count": null,
   "id": "2e7813a6",
   "metadata": {},
   "outputs": [],
   "source": [
    "# import all modules & packages\n",
    "import pandas as pd\n",
    "import os\n",
    "import seaborn as sns\n",
    "from matplotlib import pyplot as plt\n",
    "\n",
    "%matplotlib inline\n",
    "\n",
    "import warnings\n",
    "\n",
    "warnings.filterwarnings(action=\"ignore\")\n",
    "\n",
    "sns.set()"
   ]
  },
  {
   "cell_type": "code",
   "execution_count": null,
   "id": "becdf877",
   "metadata": {},
   "outputs": [],
   "source": [
    "# Aquire and clean data\n",
    "%run -i \"get_data.py\"\n",
    "%run \"marie-eda.ipynb\"\n",
    "%run \"Ideal dataset creation.ipynb\""
   ]
  },
  {
   "cell_type": "code",
   "execution_count": null,
   "id": "8a31fec4",
   "metadata": {},
   "outputs": [],
   "source": [
    "# import all datasets\n",
    "ghg_time = pd.read_csv(os.path.join(\"data\", \"ghg_country_timeseries_df.csv\"))\n",
    "ghg_country = pd.read_csv(os.path.join(\"data\", \"ghg_country_2018_df.csv\"))\n",
    "\n",
    "# TODO remove below in this cell\n",
    "\n",
    "ghg_time = ghg_time.rename(\n",
    "    columns={\n",
    "        \"Total greenhouse gas emissions (kt of CO2 equivalent)\": \"co2e_total\",\n",
    "        \"Total greenhouse gas emissions per capita (kt of CO2 equivalent per person)\": \"co2e_per_cap\",\n",
    "        \"Total greenhouse gas emissions as % of Total (kt of CO2 equivalent)\": \"co2e_percent\",\n",
    "    }\n",
    ")\n",
    "\n",
    "# Plot #1 a i 1: Plot pattern of Total GHG emissions for the world. Find pattern\n",
    "ghg_time.co2e_total /= 1000000\n",
    "ghg_time.co2e_per_cap *= 1000\n",
    "\n",
    "ghg_time.columns"
   ]
  },
  {
   "cell_type": "markdown",
   "id": "da29ac4c",
   "metadata": {},
   "source": [
    "Part 1: Characterizing GHG trends from 1990 - 2018"
   ]
  },
  {
   "cell_type": "markdown",
   "id": "256bd5ec",
   "metadata": {},
   "source": [
    "Plot series #1 (a): Are there observable patterns (linear, exponential) of GHG emissions from 1990 - 2018? What do those patterns look like when countries are grouped by region or income?"
   ]
  },
  {
   "cell_type": "markdown",
   "id": "1b14748a",
   "metadata": {},
   "source": [
    "Plot series #1: Totals (i)"
   ]
  },
  {
   "cell_type": "code",
   "execution_count": null,
   "id": "c63045f4",
   "metadata": {},
   "outputs": [],
   "source": [
    "gt_world = ghg_time[ghg_time[\"Country Name\"] == \"World\"]\n",
    "\n",
    "# transform world data to gigatons and per capita to tons for ease of reading\n",
    "fig, axs = plt.subplots(1, 2, sharex=True, figsize=(15, 7))\n",
    "fig.suptitle(\"Global GHG Emissions (CO2e)\")\n",
    "sns.lineplot(ax=axs[0], data=gt_world, x=\"Year\", y=\"co2e_total\")\n",
    "axs[0].set_title(\"Total GHG Emissions (CO2e)\")\n",
    "axs[0].set_ylabel(\"CO2e (gigatons)\")\n",
    "\n",
    "sns.lineplot(ax=axs[1], data=gt_world, x=\"Year\", y=\"co2e_per_cap\")\n",
    "axs[1].set_title(\"Per-capita GHG Emissions (CO2e)\")\n",
    "axs[1].set_ylabel(\"CO2e (tons)\")"
   ]
  },
  {
   "cell_type": "code",
   "execution_count": null,
   "id": "f2a9c768",
   "metadata": {},
   "outputs": [],
   "source": [
    "gi_time = ghg_time.groupby([\"Year\", \"Income Level\"]).agg(\n",
    "    {\n",
    "        \"co2e_total\": \"sum\",\n",
    "        \"co2e_percent\": \"sum\",\n",
    "        \"co2e_per_cap\": \"mean\",\n",
    "        \"Population, total\": \"sum\",\n",
    "    }\n",
    ")\n",
    "\n",
    "fig, axs = plt.subplots(1, 3, sharex=False, figsize=(22.5, 7.5))\n",
    "fig.suptitle(\"World GHG Emissions by Income Level\")\n",
    "\n",
    "print(gi_time.columns)\n",
    "sns.lineplot(\n",
    "    ax=axs[0],\n",
    "    data=gi_time,\n",
    "    x=\"Year\",\n",
    "    y=\"co2e_total\",\n",
    "    hue=\"Income Level\",\n",
    ")\n",
    "axs[0].set_title(\"Total World GHG Emissions (CO2e)\")\n",
    "axs[0].set_ylabel(\"CO2e (gigatons)\")\n",
    "\n",
    "sns.lineplot(\n",
    "    ax=axs[1],\n",
    "    data=gi_time,\n",
    "    x=\"Year\",\n",
    "    y=\"co2e_per_cap\",\n",
    "    hue=\"Income Level\",\n",
    "    legend=False,\n",
    ")\n",
    "axs[1].set_title(\"Per Capita World GHG Emissions (CO2e)\")\n",
    "axs[1].set_ylabel(\"CO2e (tons)\")\n",
    "\n",
    "sns.lineplot(\n",
    "    ax=axs[1],\n",
    "    data=gi_time,\n",
    "    x=\"Year\",\n",
    "    y=\"Population, total\",\n",
    "    hue=\"Income Level\",\n",
    "    legend=False,\n",
    ")\n",
    "axs[1].set_title(\"Per Capita World GHG Emissions (CO2e)\")\n",
    "axs[1].set_ylabel(\"CO2e (tons)\")"
   ]
  },
  {
   "cell_type": "code",
   "execution_count": null,
   "id": "a535e656",
   "metadata": {},
   "outputs": [],
   "source": [
    "gr_time = ghg_time.groupby([\"Region\", \"Year\"]).sum().reset_index()\n",
    "\n",
    "fig, axs = plt.subplots(1, 2, figsize=(15, 7.5))\n",
    "fig.suptitle(\"GHG Emissions by World Region Income Level (CO2e)\")\n",
    "\n",
    "sns.lineplot(\n",
    "    ax=axs[0],\n",
    "    data=gr_time,\n",
    "    x=\"Year\",\n",
    "    y=\"co2e_total\",\n",
    "    hue=\"Region\",\n",
    ").set_title(\"Total World GHG Emissions (CO2e)\")\n",
    "axs[0].set_ylabel(\"CO2e (gigatons)\")\n",
    "\n",
    "sns.lineplot(\n",
    "    ax=axs[1],\n",
    "    data=gr_time,\n",
    "    x=\"Year\",\n",
    "    y=\"co2e_per_cap\",\n",
    "    hue=\"Region\",\n",
    "    legend=False,\n",
    ").set_title(\"Per Capita World GHG Emissions (CO2e)\")\n",
    "axs[1].set_ylabel(\"CO2e (kilotons)\")"
   ]
  },
  {
   "cell_type": "code",
   "execution_count": null,
   "id": "868d4a82",
   "metadata": {},
   "outputs": [],
   "source": [
    "wdi_ind_pivot = pd.read_csv(\"data/wdi_cleaned.csv\")\n",
    "\n",
    "\n",
    "print(wdi_ind_pivot.query('`Country Name` == \"Russian Federation\"'))"
   ]
  },
  {
   "cell_type": "markdown",
   "id": "f6875c40",
   "metadata": {},
   "source": [
    "Part 2: Analyzing a snapshot (2018) of GHG emissions by country"
   ]
  },
  {
   "cell_type": "markdown",
   "id": "de24230e",
   "metadata": {},
   "source": [
    "Analysis #1: Are there observable differences in GHG emissions for 2018 amongst different country groupings (region and income groups)?"
   ]
  },
  {
   "cell_type": "markdown",
   "id": "322a8cd5",
   "metadata": {},
   "source": [
    "Analysis #1 a: ANOVA test for region and income groupings, where the null hypothesis is that the per capita emissions are equal for the different groupings. "
   ]
  },
  {
   "cell_type": "markdown",
   "id": "f999dcf2",
   "metadata": {},
   "source": [
    "Analysis #1 a i: ANOVA test for region"
   ]
  },
  {
   "cell_type": "code",
   "execution_count": null,
   "id": "1a47ec30",
   "metadata": {},
   "outputs": [],
   "source": []
  },
  {
   "cell_type": "markdown",
   "id": "11b266cf",
   "metadata": {},
   "source": [
    "Analysis #1 a ii: ANOVA test for income"
   ]
  },
  {
   "cell_type": "code",
   "execution_count": null,
   "id": "a485ce87",
   "metadata": {},
   "outputs": [],
   "source": []
  },
  {
   "cell_type": "markdown",
   "id": "eb71f5de",
   "metadata": {},
   "source": [
    "Analysis #1 b: Box plots to understand which groupings are the most different"
   ]
  },
  {
   "cell_type": "code",
   "execution_count": null,
   "id": "e1d5c3b5",
   "metadata": {},
   "outputs": [],
   "source": []
  },
  {
   "cell_type": "code",
   "execution_count": null,
   "id": "e62132e2",
   "metadata": {},
   "outputs": [],
   "source": []
  },
  {
   "cell_type": "code",
   "execution_count": null,
   "id": "c5c8aabf",
   "metadata": {},
   "outputs": [],
   "source": []
  },
  {
   "cell_type": "code",
   "execution_count": null,
   "id": "45dd589d",
   "metadata": {},
   "outputs": [],
   "source": []
  },
  {
   "cell_type": "markdown",
   "id": "8234c64e",
   "metadata": {},
   "source": [
    "Analysis #1 c: Perform t-tests for the most interesting differences. Arrive to conclusions"
   ]
  },
  {
   "cell_type": "code",
   "execution_count": null,
   "id": "9ed05729",
   "metadata": {},
   "outputs": [],
   "source": []
  },
  {
   "cell_type": "code",
   "execution_count": null,
   "id": "251899df",
   "metadata": {},
   "outputs": [],
   "source": []
  },
  {
   "cell_type": "code",
   "execution_count": null,
   "id": "53125c05",
   "metadata": {},
   "outputs": [],
   "source": []
  },
  {
   "cell_type": "code",
   "execution_count": null,
   "id": "6cc63834",
   "metadata": {},
   "outputs": [],
   "source": []
  },
  {
   "cell_type": "markdown",
   "id": "769986a2",
   "metadata": {},
   "source": [
    "Analysis #2: Which variables are related to GHG emissions? "
   ]
  },
  {
   "cell_type": "markdown",
   "id": "4428737f",
   "metadata": {},
   "source": [
    "Analysis #2 a i: Check if asumptions are being met for Log(Emissions)"
   ]
  },
  {
   "cell_type": "markdown",
   "id": "c4d24072",
   "metadata": {},
   "source": [
    "Analysis #2 a i 1: Normality"
   ]
  },
  {
   "cell_type": "code",
   "execution_count": null,
   "id": "95f02b87",
   "metadata": {},
   "outputs": [],
   "source": []
  },
  {
   "cell_type": "markdown",
   "id": "095fbe55",
   "metadata": {},
   "source": [
    "Analysis #2 a i 2: Homoscedasticity"
   ]
  },
  {
   "cell_type": "code",
   "execution_count": null,
   "id": "c53d2bac",
   "metadata": {},
   "outputs": [],
   "source": []
  },
  {
   "cell_type": "markdown",
   "id": "f4dfafa0",
   "metadata": {},
   "source": [
    "Analysis #2 a i 3: Linearity"
   ]
  },
  {
   "cell_type": "code",
   "execution_count": null,
   "id": "eb230e45",
   "metadata": {},
   "outputs": [],
   "source": []
  },
  {
   "cell_type": "markdown",
   "id": "7af98a64",
   "metadata": {},
   "source": [
    "Analysis #2 a i 4: Outliers/influential points"
   ]
  },
  {
   "cell_type": "code",
   "execution_count": null,
   "id": "d381602a",
   "metadata": {},
   "outputs": [],
   "source": []
  },
  {
   "cell_type": "markdown",
   "id": "c61fcac1",
   "metadata": {},
   "source": [
    "Analysis #2 a ii: Check if asumptions are being met for % of total GHG Emissions"
   ]
  },
  {
   "cell_type": "markdown",
   "id": "9db7c62c",
   "metadata": {},
   "source": [
    "Analysis #2 a ii 1: Normality"
   ]
  },
  {
   "cell_type": "code",
   "execution_count": null,
   "id": "415a9080",
   "metadata": {},
   "outputs": [],
   "source": []
  },
  {
   "cell_type": "markdown",
   "id": "038bb772",
   "metadata": {},
   "source": [
    "Analysis #2 a ii 2: Homoscedasticity"
   ]
  },
  {
   "cell_type": "code",
   "execution_count": null,
   "id": "745096e5",
   "metadata": {},
   "outputs": [],
   "source": []
  },
  {
   "cell_type": "markdown",
   "id": "83acc4f8",
   "metadata": {},
   "source": [
    "Analysis #2 a ii 3: Linearity"
   ]
  },
  {
   "cell_type": "code",
   "execution_count": null,
   "id": "8ba19da7",
   "metadata": {},
   "outputs": [],
   "source": []
  },
  {
   "cell_type": "markdown",
   "id": "ee520ea8",
   "metadata": {},
   "source": [
    "Analysis #2 a ii 4: Outliers/influential points"
   ]
  },
  {
   "cell_type": "code",
   "execution_count": null,
   "id": "4a8026aa",
   "metadata": {},
   "outputs": [],
   "source": []
  },
  {
   "cell_type": "markdown",
   "id": "b74744a9",
   "metadata": {},
   "source": [
    "Analysis #2 a iii: Check if asumptions are being met for GHG Emissions per capita "
   ]
  },
  {
   "cell_type": "markdown",
   "id": "58e2c17e",
   "metadata": {},
   "source": [
    "Analysis #2 a iii 1: Normality"
   ]
  },
  {
   "cell_type": "code",
   "execution_count": null,
   "id": "29c17540",
   "metadata": {},
   "outputs": [],
   "source": []
  },
  {
   "cell_type": "markdown",
   "id": "c88af92d",
   "metadata": {},
   "source": [
    "Analysis #2 a iii 2: Homoscedasticity"
   ]
  },
  {
   "cell_type": "code",
   "execution_count": null,
   "id": "3f61a69b",
   "metadata": {},
   "outputs": [],
   "source": []
  },
  {
   "cell_type": "markdown",
   "id": "690da62d",
   "metadata": {},
   "source": [
    "Analysis #2 a iii 3: Linearity"
   ]
  },
  {
   "cell_type": "code",
   "execution_count": null,
   "id": "59cdd77f",
   "metadata": {},
   "outputs": [],
   "source": []
  },
  {
   "cell_type": "markdown",
   "id": "42d7fd62",
   "metadata": {},
   "source": [
    "Analysis #2 a iii 4: Outliers/influential points"
   ]
  },
  {
   "cell_type": "code",
   "execution_count": null,
   "id": "8ab1b91a",
   "metadata": {},
   "outputs": [],
   "source": []
  },
  {
   "cell_type": "markdown",
   "id": "f2c8c29c",
   "metadata": {},
   "source": [
    "Are robust methods required?"
   ]
  },
  {
   "cell_type": "markdown",
   "id": "292c405d",
   "metadata": {},
   "source": [
    "Analysis #2 b: Linear Regression analysis to understand relationships"
   ]
  },
  {
   "cell_type": "markdown",
   "id": "67df4823",
   "metadata": {},
   "source": [
    "Analysis #2 b i: Electricity "
   ]
  },
  {
   "cell_type": "markdown",
   "id": "8ab595b8",
   "metadata": {},
   "source": [
    "Analysis #2 b i 1: Log(GHG Emissions) ~ Electricity "
   ]
  },
  {
   "cell_type": "code",
   "execution_count": null,
   "id": "f05751c9",
   "metadata": {},
   "outputs": [],
   "source": []
  },
  {
   "cell_type": "markdown",
   "id": "148840df",
   "metadata": {},
   "source": [
    "Analysis #2 b i 2: GHG Emissions per capita ~ Electricity "
   ]
  },
  {
   "cell_type": "code",
   "execution_count": null,
   "id": "46820c4d",
   "metadata": {},
   "outputs": [],
   "source": []
  },
  {
   "cell_type": "markdown",
   "id": "7200ee29",
   "metadata": {},
   "source": [
    "Analysis #2 b i 3: GHG Emissions % of total ~ Electricity "
   ]
  },
  {
   "cell_type": "code",
   "execution_count": null,
   "id": "848da388",
   "metadata": {},
   "outputs": [],
   "source": []
  },
  {
   "cell_type": "markdown",
   "id": "794a9684",
   "metadata": {},
   "source": [
    "Analysis #2 b ii: Land use (Agricultural, Arable or Permanent crops)"
   ]
  },
  {
   "cell_type": "markdown",
   "id": "0af8662d",
   "metadata": {},
   "source": [
    "Analysis #2 b ii 1: Log(GHG Emissions) ~ Land use"
   ]
  },
  {
   "cell_type": "code",
   "execution_count": null,
   "id": "6044da43",
   "metadata": {},
   "outputs": [],
   "source": []
  },
  {
   "cell_type": "markdown",
   "id": "a187bfc7",
   "metadata": {},
   "source": [
    "Analysis #2 b ii 2: GHG Emissions per capita ~ Land use"
   ]
  },
  {
   "cell_type": "code",
   "execution_count": null,
   "id": "012cb121",
   "metadata": {},
   "outputs": [],
   "source": []
  },
  {
   "cell_type": "markdown",
   "id": "a26abd7f",
   "metadata": {},
   "source": [
    "Analysis #2 b ii 3: GHG Emissions % of total ~ Land use "
   ]
  },
  {
   "cell_type": "code",
   "execution_count": null,
   "id": "0b8e6f96",
   "metadata": {},
   "outputs": [],
   "source": []
  },
  {
   "cell_type": "markdown",
   "id": "d84025b9",
   "metadata": {},
   "source": [
    "Analysis #2 b iii: GDP or GDP Growth"
   ]
  },
  {
   "cell_type": "markdown",
   "id": "509249c5",
   "metadata": {},
   "source": [
    "Analysis #2 b iii 1: Log(GHG Emissions) ~ GDP"
   ]
  },
  {
   "cell_type": "code",
   "execution_count": null,
   "id": "9a5a04e7",
   "metadata": {},
   "outputs": [],
   "source": []
  },
  {
   "cell_type": "markdown",
   "id": "adb953b7",
   "metadata": {},
   "source": [
    "Analysis #2 b iii 2: GHG Emissions per capita ~ GDP"
   ]
  },
  {
   "cell_type": "code",
   "execution_count": null,
   "id": "301822b3",
   "metadata": {},
   "outputs": [],
   "source": []
  },
  {
   "cell_type": "markdown",
   "id": "85a6eecd",
   "metadata": {},
   "source": [
    "Analysis #2 b iii 3: GHG Emissions % of total ~ GDP"
   ]
  },
  {
   "cell_type": "code",
   "execution_count": null,
   "id": "6ff8aaf0",
   "metadata": {},
   "outputs": [],
   "source": []
  },
  {
   "cell_type": "markdown",
   "id": "ae4dc32b",
   "metadata": {},
   "source": [
    "Analysis #2 b iv: Urban-to-rural ratio or population density"
   ]
  },
  {
   "cell_type": "markdown",
   "id": "0865857a",
   "metadata": {},
   "source": [
    "Analysis #2 b iv 1: Log(GHG Emissions) ~ Urban-to-rural ratio"
   ]
  },
  {
   "cell_type": "code",
   "execution_count": null,
   "id": "d263d992",
   "metadata": {},
   "outputs": [],
   "source": []
  },
  {
   "cell_type": "markdown",
   "id": "37604860",
   "metadata": {},
   "source": [
    "Analysis #2 b iv 2: GHG Emissions per capita ~ Urban-to-rural ratio"
   ]
  },
  {
   "cell_type": "code",
   "execution_count": null,
   "id": "034995bb",
   "metadata": {},
   "outputs": [],
   "source": []
  },
  {
   "cell_type": "markdown",
   "id": "a667b5dd",
   "metadata": {},
   "source": [
    "Analysis #2 b iv 3: GHG Emissions % of total ~ Urban-to-rural ratio"
   ]
  },
  {
   "cell_type": "code",
   "execution_count": null,
   "id": "b4bfefd6",
   "metadata": {},
   "outputs": [],
   "source": []
  },
  {
   "cell_type": "markdown",
   "id": "c1eba7aa",
   "metadata": {},
   "source": [
    "Analysis #2 c: Include to all models created in #2 b stratification by income and perform F-tests."
   ]
  },
  {
   "cell_type": "markdown",
   "id": "b4186d97",
   "metadata": {},
   "source": [
    "Analysis #2 c i: Electricity + Income"
   ]
  },
  {
   "cell_type": "markdown",
   "id": "3ce95ffa",
   "metadata": {},
   "source": [
    "Analysis #2 c i 1: Log(GHG Emissions) ~ Electricity + Income"
   ]
  },
  {
   "cell_type": "code",
   "execution_count": null,
   "id": "9b3aa520",
   "metadata": {},
   "outputs": [],
   "source": []
  },
  {
   "cell_type": "markdown",
   "id": "97f1c941",
   "metadata": {},
   "source": [
    "Analysis #2 c i 2: GHG Emissions per capita ~ Electricity + Income"
   ]
  },
  {
   "cell_type": "code",
   "execution_count": null,
   "id": "51cb68c4",
   "metadata": {},
   "outputs": [],
   "source": []
  },
  {
   "cell_type": "markdown",
   "id": "d6985780",
   "metadata": {},
   "source": [
    "Analysis #2 c i 3: GHG Emissions % of total ~ Electricity + Income"
   ]
  },
  {
   "cell_type": "code",
   "execution_count": null,
   "id": "363f959a",
   "metadata": {},
   "outputs": [],
   "source": []
  },
  {
   "cell_type": "markdown",
   "id": "623418ec",
   "metadata": {},
   "source": [
    "Analysis #2 c ii: Land use (Agricultural, Arable or Permanent crops)+ Income"
   ]
  },
  {
   "cell_type": "markdown",
   "id": "66bb9aed",
   "metadata": {},
   "source": [
    "Analysis #2 c ii 1: Log(GHG Emissions) ~ Land use + Income"
   ]
  },
  {
   "cell_type": "code",
   "execution_count": null,
   "id": "7a05e2ab",
   "metadata": {},
   "outputs": [],
   "source": []
  },
  {
   "cell_type": "markdown",
   "id": "5e618dcc",
   "metadata": {},
   "source": [
    "Analysis #2 c ii 2: GHG Emissions per capita ~ Land use + Income"
   ]
  },
  {
   "cell_type": "code",
   "execution_count": null,
   "id": "ec9c4a47",
   "metadata": {},
   "outputs": [],
   "source": []
  },
  {
   "cell_type": "markdown",
   "id": "46b2a622",
   "metadata": {},
   "source": [
    "Analysis #2 c ii 3: GHG Emissions % of total ~ Land use + Income"
   ]
  },
  {
   "cell_type": "code",
   "execution_count": null,
   "id": "57306533",
   "metadata": {},
   "outputs": [],
   "source": []
  },
  {
   "cell_type": "markdown",
   "id": "c116d853",
   "metadata": {},
   "source": [
    "Analysis #2 c iii: GDP or GDP Growth + Income"
   ]
  },
  {
   "cell_type": "markdown",
   "id": "eebc4842",
   "metadata": {},
   "source": [
    "Analysis #2 c iii 1: Log(GHG Emissions) ~ GDP + Income"
   ]
  },
  {
   "cell_type": "code",
   "execution_count": null,
   "id": "d1d4847a",
   "metadata": {},
   "outputs": [],
   "source": []
  },
  {
   "cell_type": "markdown",
   "id": "9c891d2c",
   "metadata": {},
   "source": [
    "Analysis #2 c iii 2: GHG Emissions per capita ~ GDP + Income"
   ]
  },
  {
   "cell_type": "code",
   "execution_count": null,
   "id": "56e40707",
   "metadata": {},
   "outputs": [],
   "source": []
  },
  {
   "cell_type": "markdown",
   "id": "751c9464",
   "metadata": {},
   "source": [
    "Analysis #2 c iii 3: GHG Emissions % of total ~ GDP + Income"
   ]
  },
  {
   "cell_type": "code",
   "execution_count": null,
   "id": "a8b58dd4",
   "metadata": {},
   "outputs": [],
   "source": []
  },
  {
   "cell_type": "markdown",
   "id": "4d46b703",
   "metadata": {},
   "source": [
    "Analysis #2 c iv: Urban-to-rural ratio or population density + Income"
   ]
  },
  {
   "cell_type": "markdown",
   "id": "e603dfc3",
   "metadata": {},
   "source": [
    "Analysis #2 c iv 1: Log(GHG Emissions) ~ Urban-to-rural ratio + Income"
   ]
  },
  {
   "cell_type": "code",
   "execution_count": null,
   "id": "e177d412",
   "metadata": {},
   "outputs": [],
   "source": []
  },
  {
   "cell_type": "markdown",
   "id": "6d8c64b3",
   "metadata": {},
   "source": [
    "Analysis #2 c iv 2: GHG Emissions per capita ~ Urban-to-rural ratio + Income"
   ]
  },
  {
   "cell_type": "code",
   "execution_count": null,
   "id": "adde5fcc",
   "metadata": {},
   "outputs": [],
   "source": []
  },
  {
   "cell_type": "markdown",
   "id": "5c2d52d7",
   "metadata": {},
   "source": [
    "Analysis #2 c iv 3: GHG Emissions % of total ~ Urban-to-rural ratio + Income"
   ]
  },
  {
   "cell_type": "code",
   "execution_count": null,
   "id": "3db51b88",
   "metadata": {},
   "outputs": [],
   "source": []
  },
  {
   "cell_type": "markdown",
   "id": "9bafc835",
   "metadata": {},
   "source": [
    "Analysis #2 d: Include to all models created in #2 b stratification by region and perform F-tests."
   ]
  },
  {
   "cell_type": "markdown",
   "id": "fc9c63bb",
   "metadata": {},
   "source": [
    "Analysis #2 d i: Electricity + region"
   ]
  },
  {
   "cell_type": "markdown",
   "id": "ffb0473c",
   "metadata": {},
   "source": [
    "Analysis #2 d i 1: Log(GHG Emissions) ~ Electricity + region"
   ]
  },
  {
   "cell_type": "code",
   "execution_count": null,
   "id": "d5dbc0ec",
   "metadata": {},
   "outputs": [],
   "source": []
  },
  {
   "cell_type": "markdown",
   "id": "a9354c2a",
   "metadata": {},
   "source": [
    "Analysis #2 d i 2: GHG Emissions per capita ~ Electricity + region"
   ]
  },
  {
   "cell_type": "code",
   "execution_count": null,
   "id": "00a0eded",
   "metadata": {},
   "outputs": [],
   "source": []
  },
  {
   "cell_type": "markdown",
   "id": "4f6c123a",
   "metadata": {},
   "source": [
    "Analysis #2 d i 3: GHG Emissions % of total ~ Electricity + region"
   ]
  },
  {
   "cell_type": "code",
   "execution_count": null,
   "id": "ca548029",
   "metadata": {},
   "outputs": [],
   "source": []
  },
  {
   "cell_type": "markdown",
   "id": "94726894",
   "metadata": {},
   "source": [
    "Analysis #2 d ii: Land use (Agricultural, Arable or Permanent crops) + region"
   ]
  },
  {
   "cell_type": "markdown",
   "id": "90c3c7dc",
   "metadata": {},
   "source": [
    "Analysis #2 d ii 1: Log(GHG Emissions) ~ Land use + region"
   ]
  },
  {
   "cell_type": "code",
   "execution_count": null,
   "id": "2e46cb5c",
   "metadata": {},
   "outputs": [],
   "source": []
  },
  {
   "cell_type": "markdown",
   "id": "fef5bae4",
   "metadata": {},
   "source": [
    "Analysis #2 d ii 2: GHG Emissions per capita ~ Land use + region"
   ]
  },
  {
   "cell_type": "code",
   "execution_count": null,
   "id": "8d517084",
   "metadata": {},
   "outputs": [],
   "source": []
  },
  {
   "cell_type": "markdown",
   "id": "bb3ed353",
   "metadata": {},
   "source": [
    "Analysis #2 d ii 3: GHG Emissions % of total ~ Land use + region"
   ]
  },
  {
   "cell_type": "code",
   "execution_count": null,
   "id": "80fae2e0",
   "metadata": {},
   "outputs": [],
   "source": []
  },
  {
   "cell_type": "markdown",
   "id": "0c2fe7b5",
   "metadata": {},
   "source": [
    "Analysis #2 d iii: GDP or GDP Growth + region"
   ]
  },
  {
   "cell_type": "markdown",
   "id": "3ebd83eb",
   "metadata": {},
   "source": [
    "Analysis #2 d iii 1: Log(GHG Emissions) ~ GDP + region"
   ]
  },
  {
   "cell_type": "code",
   "execution_count": null,
   "id": "0ce40d54",
   "metadata": {},
   "outputs": [],
   "source": []
  },
  {
   "cell_type": "markdown",
   "id": "27cd6bea",
   "metadata": {},
   "source": [
    "Analysis #2 d iii 2: GHG Emissions per capita ~ GDP + region"
   ]
  },
  {
   "cell_type": "code",
   "execution_count": null,
   "id": "fdc5a845",
   "metadata": {},
   "outputs": [],
   "source": []
  },
  {
   "cell_type": "markdown",
   "id": "91f557bd",
   "metadata": {},
   "source": [
    "Analysis #2 d iii 3: GHG Emissions % of total ~ GDP + region"
   ]
  },
  {
   "cell_type": "code",
   "execution_count": null,
   "id": "9cc71100",
   "metadata": {},
   "outputs": [],
   "source": []
  },
  {
   "cell_type": "markdown",
   "id": "deb3427e",
   "metadata": {},
   "source": [
    "Analysis #2 d iv: Urban-to-rural ratio or population density + region"
   ]
  },
  {
   "cell_type": "markdown",
   "id": "94e37824",
   "metadata": {},
   "source": [
    "Analysis #2 d iv 1: Log(GHG Emissions) ~ Urban-to-rural ratio + region"
   ]
  },
  {
   "cell_type": "code",
   "execution_count": null,
   "id": "e43a5cb8",
   "metadata": {},
   "outputs": [],
   "source": []
  },
  {
   "cell_type": "markdown",
   "id": "5c247489",
   "metadata": {},
   "source": [
    "Analysis #2 d iv 2: GHG Emissions per capita ~ Urban-to-rural ratio + region"
   ]
  },
  {
   "cell_type": "code",
   "execution_count": null,
   "id": "babd8cde",
   "metadata": {},
   "outputs": [],
   "source": []
  },
  {
   "cell_type": "markdown",
   "id": "8c3a3f89",
   "metadata": {},
   "source": [
    "Analysis #2 d iv 3: GHG Emissions % of total ~ Urban-to-rural ratio + region"
   ]
  },
  {
   "cell_type": "code",
   "execution_count": null,
   "id": "c5117749",
   "metadata": {},
   "outputs": [],
   "source": []
  },
  {
   "cell_type": "markdown",
   "id": "b42fe40f",
   "metadata": {},
   "source": [
    "Part 3: Dive deeper in interesting conclusions, patters or further questions"
   ]
  }
 ],
 "metadata": {
  "kernelspec": {
   "display_name": "Python 3 (ipykernel)",
   "language": "python",
   "name": "python3"
  },
  "language_info": {
   "codemirror_mode": {
    "name": "ipython",
    "version": 3
   },
   "file_extension": ".py",
   "mimetype": "text/x-python",
   "name": "python",
   "nbconvert_exporter": "python",
   "pygments_lexer": "ipython3",
   "version": "3.8.8"
  }
 },
 "nbformat": 4,
 "nbformat_minor": 5
}
