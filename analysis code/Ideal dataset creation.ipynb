{
 "cells": [
  {
   "cell_type": "code",
   "execution_count": null,
   "id": "9e8decb1",
   "metadata": {},
   "outputs": [],
   "source": [
    "import os\n",
    "import pandas as pd\n",
    "\n",
    "# Import all datasets\n",
    "features_df = pd.read_csv(os.path.join(\"..\", \"clean_data.csv\"))\n",
    "ghg_country_df = pd.read_csv(os.path.join(\"..\", \"data\", \"wdi_ghgs_co2e_unpivot.csv\"))\n",
    "# Clean unnecessary columns\n",
    "features_df.drop(columns=[\"Unnamed: 0\"], inplace=True)\n",
    "ghg_country_df.drop(columns=[\"Unnamed: 0\"], inplace=True)"
   ]
  },
  {
   "cell_type": "code",
   "execution_count": null,
   "id": "35b97429",
   "metadata": {},
   "outputs": [],
   "source": [
    "# We eliminate aggregations provided by the dataset\n",
    "aggregations = [\n",
    "    \"Africa Eastern and Southern\",\n",
    "    \"Africa Western and Central\",\n",
    "    \"Arab World\",\n",
    "    \"Caribbean small states\",\n",
    "    \"Central Europe and the Baltics\",\n",
    "    \"Early-demographic dividend\",\n",
    "    \"East Asia & Pacific\",\n",
    "    \"East Asia & Pacific (excluding high income)\",\n",
    "    \"East Asia & Pacific (IDA & IBRD countries)\",\n",
    "    \"Euro area\",\n",
    "    \"Europe & Central Asia\",\n",
    "    \"Europe & Central Asia (excluding high income)\",\n",
    "    \"Europe & Central Asia (IDA & IBRD countries)\",\n",
    "    \"European Union\",\n",
    "    \"Fragile and conflict affected situations\",\n",
    "    \"Heavily indebted poor countries (HIPC)\",\n",
    "    \"High income\",\n",
    "    \"IBRD only\",\n",
    "    \"IDA & IBRD total\",\n",
    "    \"IDA blend\",\n",
    "    \"IDA only\",\n",
    "    \"IDA total\",\n",
    "    \"Late-demographic dividend\",\n",
    "    \"Latin America & Caribbean\",\n",
    "    \"Latin America & Caribbean (excluding high income)\",\n",
    "    \"Latin America & the Caribbean (IDA & IBRD countries)\",\n",
    "    \"Least developed countries: UN classification\",\n",
    "    \"Low & middle income\",\n",
    "    \"Low income\",\n",
    "    \"Lower middle income\",\n",
    "    \"Middle East & North Africa\",\n",
    "    \"Middle East & North Africa (excluding high income)\",\n",
    "    \"Middle East & North Africa (IDA & IBRD countries)\",\n",
    "    \"Middle income\",\n",
    "    \"North America\",\n",
    "    \"Not classified\",\n",
    "    \"OECD members\",\n",
    "    \"Other small states\",\n",
    "    \"Pacific island small states\",\n",
    "    \"Post-demographic dividend\",\n",
    "    \"Pre-demographic dividend\",\n",
    "    \"Small states\",\n",
    "    \"South Asia\",\n",
    "    \"South Asia (IDA & IBRD)\",\n",
    "    \"Sub-Saharan Africa\",\n",
    "    \"Sub-Saharan Africa (excluding high income)\",\n",
    "    \"Sub-Saharan Africa (IDA & IBRD countries)\",\n",
    "    \"Upper middle income\",\n",
    "    \"World\",\n",
    "]\n",
    "# We eliminate these in both datasets\n",
    "ghg_country_df = ghg_country_df[~ghg_country_df[\"Country Name\"].isin(aggregations)]\n",
    "features_df = features_df[~features_df[\"Country Name\"].isin(aggregations)]"
   ]
  },
  {
   "cell_type": "markdown",
   "id": "d46174d2",
   "metadata": {},
   "source": [
    "We first concentrate on creating the ideal GHG table for timeseries analysis (Part 1)"
   ]
  },
  {
   "cell_type": "code",
   "execution_count": null,
   "id": "c1835651",
   "metadata": {},
   "outputs": [],
   "source": [
    "# We only want years 1990 - 2018 and total GHG emissions\n",
    "ghg_country_df = ghg_country_df[\n",
    "    ((ghg_country_df[\"Year\"] > 1989) & (ghg_country_df[\"Year\"] < 2019))\n",
    "    & (\n",
    "        (\n",
    "            ghg_country_df[\"Indicator Name_x\"]\n",
    "            == \"Total greenhouse gas emissions (kt of CO2 equivalent)\"\n",
    "        )\n",
    "        | (ghg_country_df[\"Indicator Name_x\"] == \"Population, total\")\n",
    "    )\n",
    "]\n",
    "#\n",
    "# We analyze null values\n",
    "ghg_country_df[ghg_country_df.value.isna()].groupby(\n",
    "    [\"Year\", \"Indicator Name_x\"]\n",
    ").count()"
   ]
  },
  {
   "cell_type": "code",
   "execution_count": null,
   "id": "7afd16a5",
   "metadata": {},
   "outputs": [],
   "source": [
    "# We observe that there are consistently at most 2 countries that don't have Population, total and at most 31 countries that don't have GHG total\n",
    "# We analyze which countries are these and if they are important to our dataset\n",
    "ghg_country_df[ghg_country_df.value.isna()].groupby(\n",
    "    [\"Country Name\", \"Indicator Name_x\"]\n",
    ").count()"
   ]
  },
  {
   "cell_type": "code",
   "execution_count": null,
   "id": "43752a57",
   "metadata": {},
   "outputs": [],
   "source": [
    "# It is clear that most of the countries listed are small islands that we know are not the main focus of our analysis and that given their limited surface area cannot contribute in a significant way to GHG emissions compared to most other countries.\n",
    "# having this in mind, we will eliminate all NAN rows.\n",
    "country_names = ghg_country_df[ghg_country_df.value.isna()][\"Country Name\"].unique()\n",
    "ghg_country_df = ghg_country_df[~ghg_country_df[\"Country Name\"].isin(country_names)]\n",
    "ghg_country_df.isna().sum()"
   ]
  },
  {
   "cell_type": "code",
   "execution_count": null,
   "id": "44bc53fe",
   "metadata": {},
   "outputs": [],
   "source": [
    "# We can now create our two new variables: per capita and % of total\n",
    "# Per-capita\n",
    "ghg_country_df_pivot = ghg_country_df.pivot(\n",
    "    index=[\"Country Name\", \"Year\"], columns=[\"Indicator Name_x\"], values=\"value\"\n",
    ")\n",
    "# We want to know if there are countries that have one of the two features missing\n",
    "ghg_country_df_pivot.isna().sum()\n",
    "# We make the division\n",
    "ghg_country_df_pivot[\n",
    "    \"Total greenhouse gas emissions per capita (kt of CO2 equivalent per person)\"\n",
    "] = (\n",
    "    ghg_country_df_pivot[\"Total greenhouse gas emissions (kt of CO2 equivalent)\"]\n",
    "    / ghg_country_df_pivot[\"Population, total\"]\n",
    ")\n",
    "ghg_country_df_pivot.reset_index(inplace=True)"
   ]
  },
  {
   "cell_type": "code",
   "execution_count": null,
   "id": "cfbd3338",
   "metadata": {},
   "outputs": [],
   "source": [
    "#% of total\n",
    "ghg_country_df_pivot[\n",
    "    \"Total greenhouse gas emissions as % of Total (kt of CO2 equivalent)\"\n",
    "] = (\n",
    "    ghg_country_df_pivot[\"Total greenhouse gas emissions (kt of CO2 equivalent)\"]\n",
    "    / ghg_country_df_pivot[\n",
    "        \"Total greenhouse gas emissions (kt of CO2 equivalent)\"\n",
    "    ].sum()\n",
    ") * 100\n",
    "ghg_country_df_pivot.isna().sum()"
   ]
  },
  {
   "cell_type": "code",
   "execution_count": null,
   "id": "b404536f",
   "metadata": {},
   "outputs": [],
   "source": [
    "# We add region and income level to have our ideal timeseries dataset for part 1.\n",
    "ghg_country_timeseries_df = pd.merge(\n",
    "    ghg_country_df_pivot,\n",
    "    features_df[[\"Country Name\", \"Year\", \"Region\", \"Income Level\"]],\n",
    "    how=\"left\",\n",
    "    left_on=[\"Country Name\", \"Year\"],\n",
    "    right_on=[\"Country Name\", \"Year\"],\n",
    ")\n",
    "# Check # rows didn't increase\n",
    "print(ghg_country_df_pivot.shape)\n",
    "print(ghg_country_timeseries_df.shape)\n",
    "# We check that there are no nulls\n",
    "ghg_country_timeseries_df.isna().sum()"
   ]
  },
  {
   "cell_type": "markdown",
   "id": "33c0e5c3",
   "metadata": {},
   "source": [
    "We have the ideal data set for part 1"
   ]
  },
  {
   "cell_type": "code",
   "execution_count": null,
   "id": "10644506",
   "metadata": {},
   "outputs": [],
   "source": [
    "ghg_country_timeseries_df.to_csv(\n",
    "    os.path.join(\"..\", \"data\", \"ghg_country_timeseries_df.csv\")\n",
    ")"
   ]
  },
  {
   "cell_type": "markdown",
   "id": "847a723b",
   "metadata": {},
   "source": [
    "We create the ideal dataset for part 2"
   ]
  },
  {
   "cell_type": "code",
   "execution_count": null,
   "id": "67eff21e",
   "metadata": {},
   "outputs": [],
   "source": [
    "# We are only interested in the year 2018\n",
    "features_df = features_df[features_df[\"Year\"] == 2018]\n",
    "features_df.isna().sum()"
   ]
  },
  {
   "cell_type": "markdown",
   "id": "cfeb1a8a",
   "metadata": {},
   "source": [
    "Given that most of our analysis will be performed individually for each feature, we will not eliminate nulls at this point, every run will eliminate its respective nulls, this will allow us to have the most amount of data possible per run "
   ]
  },
  {
   "cell_type": "code",
   "execution_count": null,
   "id": "1073c2bb",
   "metadata": {},
   "outputs": [],
   "source": [
    "# We would like to add the variables of interest\n",
    "ghg_country_2018_df = pd.merge(\n",
    "    features_df,\n",
    "    ghg_country_timeseries_df[\n",
    "        [\n",
    "            \"Country Name\",\n",
    "            \"Year\",\n",
    "            \"Total greenhouse gas emissions (kt of CO2 equivalent)\",\n",
    "            \"Total greenhouse gas emissions per capita (kt of CO2 equivalent per person)\",\n",
    "            \"Total greenhouse gas emissions as % of Total (kt of CO2 equivalent)\",\n",
    "        ]\n",
    "    ],\n",
    "    how=\"left\",\n",
    "    left_on=[\"Country Name\", \"Year\"],\n",
    "    right_on=[\"Country Name\", \"Year\"],\n",
    ")\n",
    "# Check # rows didn't increase\n",
    "print(features_df.shape)\n",
    "print(ghg_country_2018_df.shape)\n",
    "# We check that there are no nulls\n",
    "ghg_country_2018_df.isna().sum()"
   ]
  },
  {
   "cell_type": "code",
   "execution_count": null,
   "id": "7516f82e",
   "metadata": {},
   "outputs": [],
   "source": [
    "# There are some nulls for the response variable\n",
    "ghg_country_2018_df[\n",
    "    ghg_country_2018_df[\"Total greenhouse gas emissions (kt of CO2 equivalent)\"].isna()\n",
    "][\"Country Name\"]"
   ]
  },
  {
   "cell_type": "markdown",
   "id": "301f4582",
   "metadata": {},
   "source": [
    "Same as before, we observe that these nulls are related mostly with small countries or islands, whose emissions we think are insignificant and that we can eliminate from our analysis."
   ]
  },
  {
   "cell_type": "code",
   "execution_count": null,
   "id": "4e3dfd56",
   "metadata": {},
   "outputs": [],
   "source": [
    "ghg_country_2018_df.dropna(\n",
    "    how=\"any\",\n",
    "    subset=[\n",
    "        \"Total greenhouse gas emissions (kt of CO2 equivalent)\",\n",
    "        \"Total greenhouse gas emissions per capita (kt of CO2 equivalent per person)\",\n",
    "        \"Total greenhouse gas emissions as % of Total (kt of CO2 equivalent)\",\n",
    "    ],\n",
    "    inplace=True,\n",
    ")\n",
    "ghg_country_2018_df.isna().sum()"
   ]
  },
  {
   "cell_type": "markdown",
   "id": "0cd7296c",
   "metadata": {},
   "source": [
    "We have the ideal data set for part 2\n"
   ]
  },
  {
   "cell_type": "code",
   "execution_count": null,
   "id": "55ff5c47",
   "metadata": {},
   "outputs": [],
   "source": [
    "ghg_country_2018_df.to_csv(os.path.join(\"..\", \"data\", \"ghg_country_2018_df.csv\"))"
   ]
  }
 ],
 "metadata": {
  "kernelspec": {
   "display_name": "Python 3 (ipykernel)",
   "language": "python",
   "name": "python3"
  },
  "language_info": {
   "codemirror_mode": {
    "name": "ipython",
    "version": 3
   },
   "file_extension": ".py",
   "mimetype": "text/x-python",
   "name": "python",
   "nbconvert_exporter": "python",
   "pygments_lexer": "ipython3",
   "version": "3.9.7"
  }
 },
 "nbformat": 4,
 "nbformat_minor": 5
}
