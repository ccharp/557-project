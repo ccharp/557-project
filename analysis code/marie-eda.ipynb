{
 "cells": [
  {
   "cell_type": "markdown",
   "metadata": {},
   "source": [
    "### Setup"
   ]
  },
  {
   "cell_type": "code",
   "execution_count": null,
   "metadata": {},
   "outputs": [],
   "source": [
    "import pandas as pd\n",
    "import os\n",
    "import missingno as msno\n",
    "# %matplotlib inline\n",
    "# https://github.com/microsoft/vscode-jupyter/issues/1948\n",
    "%matplotlib widget\n",
    "from IPython.display import display"
   ]
  },
  {
   "cell_type": "code",
   "execution_count": null,
   "metadata": {},
   "outputs": [],
   "source": [
    "%%time\n",
    "wdi_df = pd.read_excel(os.path.join(\"..\",\"data\",\"WDIEXCEL.xlsx\"))\n",
    "series_df = pd.read_excel(os.path.join(\"..\",\"data\",\"WDIEXCEL.xlsx\"),sheet_name='Series')"
   ]
  },
  {
   "cell_type": "markdown",
   "metadata": {},
   "source": [
    "### Simplify Dataset"
   ]
  },
  {
   "cell_type": "code",
   "execution_count": null,
   "metadata": {},
   "outputs": [],
   "source": [
    "wdi_merge=pd.merge(wdi_df,series_df,how='left',left_on='Indicator Code',right_on='Series Code')\n",
    "wdi_ghg=wdi_merge.drop(['Indicator Name_y', 'Short definition', 'Long definition',\n",
    "       'Unit of measure', 'Periodicity', 'Base Period', 'Other notes',\n",
    "       'Aggregation method', 'Limitations and exceptions',\n",
    "       'Notes from original source', 'General comments', 'Source',\n",
    "       'Statistical concept and methodology', 'Development relevance',\n",
    "       'Related source links', 'Other web links', 'Related indicators',\n",
    "       'License Type','Series Code'],axis=1)\n",
    "wdi_ghg=wdi_ghg[wdi_ghg['Indicator Name_x'].str.contains('CO2 equivalent')]\n",
    "wdi_ghg.to_csv(os.path.join(\"..\",\"data\",'wdi_ghgs_co2e.csv'))\n",
    "wdi_ghg\n"
   ]
  },
  {
   "cell_type": "markdown",
   "metadata": {},
   "source": [
    "### Calculate global totals"
   ]
  },
  {
   "cell_type": "code",
   "execution_count": null,
   "metadata": {},
   "outputs": [],
   "source": [
    "#1) Num countries that have the data\n",
    "## of years that have the data\n",
    "wdi_ghg_total = wdi_ghg.groupby('Indicator Name_x',  as_index=False).sum()\n",
    "wdi_ghg_unpivot=pd.melt(wdi_ghg_total,id_vars=['Indicator Name_x'],value_vars=['1960', '1961', '1962', '1963', '1964', '1965', '1966', '1967', '1968',\n",
    "       '1969', '1970', '1971', '1972', '1973', '1974', '1975', '1976', '1977',\n",
    "       '1978', '1979', '1980', '1981', '1982', '1983', '1984', '1985', '1986',\n",
    "       '1987', '1988', '1989', '1990', '1991', '1992', '1993', '1994', '1995',\n",
    "       '1996', '1997', '1998', '1999', '2000', '2001', '2002', '2003', '2004',\n",
    "       '2005', '2006', '2007', '2008', '2009', '2010', '2011', '2012', '2013',\n",
    "       '2014', '2015', '2016', '2017', '2018', '2019', '2020'],var_name=['Year'])\n",
    "wdi_ghg_unpivot=wdi_ghg_unpivot.rename(columns={'value': 'Total Emissions'})"
   ]
  },
  {
   "cell_type": "code",
   "execution_count": null,
   "metadata": {},
   "outputs": [],
   "source": [
    "wdi_ghg_total.to_csv(os.path.join(\"..\",\"data\",'wdi_global_ghg.csv'))"
   ]
  },
  {
   "cell_type": "markdown",
   "metadata": {},
   "source": [
    "### Plot"
   ]
  },
  {
   "cell_type": "code",
   "execution_count": null,
   "metadata": {},
   "outputs": [],
   "source": [
    "#wdi_unpivot_2=wdi_unpivot.groupby(['Year','Indicator Name_x']).count().reset_index()\n",
    "#wdi_unpivot_2=wdi_unpivot_2.rename(columns={'value': 'Country Count'})\n",
    "%matplotlib widget\n",
    "import seaborn as sns\n",
    "import matplotlib.pyplot as plt\n",
    "wdi_ghg_to_plot = wdi_ghg_unpivot\n",
    "# wdi_ghg_to_plot = wdi_ghg_unpivot[wdi_ghg_unpivot['Indicator Name_x'].str.contains('methane')]\n",
    "# wdi_ghg_to_plot = wdi_ghg_unpivot[wdi_ghg_unpivot['Total Emissions'] < 0]\n",
    "\n",
    "sns.lineplot(data=wdi_ghg_to_plot,x='Year',y='Total Emissions',hue='Indicator Name_x') #, legend=False)\n"
   ]
  }
 ],
 "metadata": {
  "interpreter": {
   "hash": "f9f85f796d01129d0dd105a088854619f454435301f6ffec2fea96ecbd9be4ac"
  },
  "kernelspec": {
   "display_name": "Python 3.9.5 64-bit",
   "language": "python",
   "name": "python3"
  },
  "language_info": {
   "codemirror_mode": {
    "name": "ipython",
    "version": 3
   },
   "file_extension": ".py",
   "mimetype": "text/x-python",
   "name": "python",
   "nbconvert_exporter": "python",
   "pygments_lexer": "ipython3",
   "version": "3.8.10"
  }
 },
 "nbformat": 4,
 "nbformat_minor": 2
}
